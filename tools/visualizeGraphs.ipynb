{
 "cells": [
  {
   "cell_type": "code",
   "execution_count": 35,
   "metadata": {},
   "outputs": [],
   "source": [
    "from networkit import *\n",
    "import os\n",
    "import numpy as np\n",
    "import sys"
   ]
  },
  {
   "cell_type": "markdown",
   "metadata": {},
   "source": [
    "## Read graph and coordinates"
   ]
  },
  {
   "cell_type": "code",
   "execution_count": 36,
   "metadata": {},
   "outputs": [
    {
     "name": "stdout",
     "output_type": "stream",
     "text": [
      "13112 19507\n"
     ]
    }
   ],
   "source": [
    "graphPath = \"/home/harry/geographer-dev/meshes/slowrot-00000.graph\"\n",
    "G = readGraph(graphPath, Format.METIS)\n",
    "print( G.numberOfNodes(), G.numberOfEdges() )"
   ]
  },
  {
   "cell_type": "code",
   "execution_count": 37,
   "metadata": {},
   "outputs": [
    {
     "name": "stdout",
     "output_type": "stream",
     "text": [
      "['416.000000 1013.333313 0.000000', '314.666656 437.333344 0.000000', '412.000000 382.666656 0.000000', '10.666667 352.000000 0.000000', '400.000000 133.333328 0.000000', '509.333344 328.000000 0.000000', '444.000000 569.333313 0.000000', '444.000000 574.666687 0.000000', '160.000000 10.666667 0.000000', '402.666656 261.333344 0.000000']\n"
     ]
    }
   ],
   "source": [
    "coordsFile = graphPath+\".xyz\"\n",
    "coordsAll = [line.rstrip('\\n') for line in open(coordsFile) if not line.startswith('%')]\n",
    "print( coordsAll[:10] )"
   ]
  },
  {
   "cell_type": "code",
   "execution_count": 38,
   "metadata": {},
   "outputs": [
    {
     "name": "stdout",
     "output_type": "stream",
     "text": [
      "1018.666687\n"
     ]
    }
   ],
   "source": [
    "coordsX = [ float(x.split(' ')[0]) for x in coordsAll ]\n",
    "print( max(coordsX) )"
   ]
  },
  {
   "cell_type": "code",
   "execution_count": 39,
   "metadata": {},
   "outputs": [
    {
     "name": "stdout",
     "output_type": "stream",
     "text": [
      "1013.333313\n"
     ]
    }
   ],
   "source": [
    "coordsY = [ float(x.split(' ')[1]) for x in coordsAll ]\n",
    "print( max(coordsY) )"
   ]
  },
  {
   "cell_type": "markdown",
   "metadata": {},
   "source": [
    "## Export data to gephi"
   ]
  },
  {
   "cell_type": "code",
   "execution_count": 40,
   "metadata": {},
   "outputs": [],
   "source": [
    "client = gephi.streaming.GephiStreamingClient(url=\"http://localhost:8080/workspace1\")"
   ]
  },
  {
   "cell_type": "code",
   "execution_count": 42,
   "metadata": {},
   "outputs": [],
   "source": [
    "client.exportGraph(G)"
   ]
  },
  {
   "cell_type": "code",
   "execution_count": 43,
   "metadata": {},
   "outputs": [],
   "source": [
    "client.exportNodeValues( G, coordsX, \"X\")\n",
    "client.exportNodeValues( G, coordsY, \"Y\")"
   ]
  },
  {
   "cell_type": "markdown",
   "metadata": {},
   "source": [
    "## Read partitions"
   ]
  },
  {
   "cell_type": "code",
   "execution_count": 45,
   "metadata": {},
   "outputs": [
    {
     "name": "stdout",
     "output_type": "stream",
     "text": [
      "Geographer\n",
      "parMetisGeom\n",
      "parMetisGraph\n",
      "zoltanMJ\n",
      "zoltanRCB\n",
      "zoltanRIB\n"
     ]
    }
   ],
   "source": [
    "direc = \"/home/harry/supermuc/geographer-dev/experiments/output/\"\n",
    "filename = \"slowrot-0000-random-5\"\n",
    "\n",
    "partitions = dict()\n",
    "\n",
    "for file in os.listdir(direc):\n",
    "    if file.startswith(filename) and file.endswith(\"part\"):\n",
    "        x = file.split(\".\")\n",
    "        x = x[0].split(\"_\")\n",
    "        tool = x[2]\n",
    "        print(tool)\n",
    "        \n",
    "        partition = [line.rstrip('\\n') for line in open(direc+file)]\n",
    "        #first line is comments, remove it. \n",
    "        #Alternatively, we can use: ... for line in open(...) if line not startswith(\"%\")\n",
    "        partition = [ int(x) for x in partition[1:] ]\n",
    "        \n",
    "        partitions[tool] = partition\n",
    "        "
   ]
  },
  {
   "cell_type": "code",
   "execution_count": 46,
   "metadata": {},
   "outputs": [],
   "source": [
    "for x in partitions:\n",
    "    client.exportNodeValues(G, partitions[x], x)"
   ]
  },
  {
   "cell_type": "code",
   "execution_count": 17,
   "metadata": {},
   "outputs": [
    {
     "name": "stdout",
     "output_type": "stream",
     "text": [
      "13113\n"
     ]
    }
   ],
   "source": [
    "print( len(partitions[\"zoltanMJ\"]))"
   ]
  },
  {
   "cell_type": "code",
   "execution_count": 54,
   "metadata": {},
   "outputs": [
    {
     "name": "stdout",
     "output_type": "stream",
     "text": [
      "[0, 0, 0, 0, 0, 0, 0, 0, 0, 0]\n",
      "[1, 1, 1, 1, 1, 1, 1, 1, 1, 1]\n"
     ]
    }
   ],
   "source": [
    "# read the partitions for the different hierarchy levels\n",
    "\n",
    "levels = 3\n",
    "allHier = list()\n",
    "for i in range(1,levels):\n",
    "    partFile = \"/home/harry/geographer-dev/partResults/partHKM10_h\" + str(i) + \".out\"\n",
    "    allHier.append( [line.rstrip('\\n') for line in open(partFile)] )\n",
    "    allHier[-1] = [ int(x) for x in allHier[-1] ] \n",
    "print( allHier[0][0:10] )    \n",
    "print( allHier[1][0:10] )    "
   ]
  }
 ],
 "metadata": {
  "kernelspec": {
   "display_name": "Python 3",
   "language": "python",
   "name": "python3"
  },
  "language_info": {
   "codemirror_mode": {
    "name": "ipython",
    "version": 3
   },
   "file_extension": ".py",
   "mimetype": "text/x-python",
   "name": "python",
   "nbconvert_exporter": "python",
   "pygments_lexer": "ipython3",
   "version": "3.6.7"
  }
 },
 "nbformat": 4,
 "nbformat_minor": 2
}
