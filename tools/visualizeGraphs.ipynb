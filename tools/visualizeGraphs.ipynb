{
 "cells": [
  {
   "cell_type": "code",
   "execution_count": 154,
   "metadata": {},
   "outputs": [],
   "source": [
    "from networkit import *\n",
    "import os\n",
    "import numpy as np\n",
    "import sys"
   ]
  },
  {
   "cell_type": "markdown",
   "metadata": {},
   "source": [
    "## Read graph and partitions"
   ]
  },
  {
   "cell_type": "code",
   "execution_count": 155,
   "metadata": {},
   "outputs": [
    {
     "name": "stdout",
     "output_type": "stream",
     "text": [
      "13112 19507\n"
     ]
    }
   ],
   "source": [
    "graphPath = \"/home/harry/geographer-dev/meshes/slowrot-00000.graph\"\n",
    "G = readGraph(graphPath, Format.METIS)\n",
    "print( G.numberOfNodes(), G.numberOfEdges() )"
   ]
  },
  {
   "cell_type": "code",
   "execution_count": 156,
   "metadata": {},
   "outputs": [],
   "source": [
    "#read partitions\n",
    "\n",
    "partFile = \"/home/harry/geographer-dev/partResults/partKM8.out\"\n",
    "partitionKM = [line.rstrip('\\n') for line in open(partFile)]"
   ]
  },
  {
   "cell_type": "code",
   "execution_count": 157,
   "metadata": {},
   "outputs": [],
   "source": [
    "partFile = \"/home/harry/geographer-dev/partResults/partHKM8.out\"\n",
    "partitionHKM =  [line.rstrip('\\n') for line in open(partFile)]"
   ]
  },
  {
   "cell_type": "code",
   "execution_count": 158,
   "metadata": {},
   "outputs": [
    {
     "name": "stdout",
     "output_type": "stream",
     "text": [
      "13113\n",
      "13113\n"
     ]
    }
   ],
   "source": [
    "print( len(partitionKM) )\n",
    "print( len(partitionHKM) )"
   ]
  },
  {
   "cell_type": "code",
   "execution_count": 159,
   "metadata": {},
   "outputs": [
    {
     "name": "stdout",
     "output_type": "stream",
     "text": [
      "['% 13112', '2', '0', '1', '0', '0', '7', '3', '3', '0']\n",
      "['% 13112', '5', '2', '1', '2', '0', '1', '2', '2', '2']\n"
     ]
    }
   ],
   "source": [
    "print( partitionKM[:10] )\n",
    "print( partitionHKM[:10] )"
   ]
  },
  {
   "cell_type": "code",
   "execution_count": 160,
   "metadata": {},
   "outputs": [],
   "source": [
    "# turn to int, remove first line\n",
    "partitionKM = [ int(x) for x in partitionKM[1:] ]\n",
    "partitionHKM = [ int(x) for x in partitionHKM[1:] ]\n",
    "assert( len(partitionKM)==len(partitionHKM) )"
   ]
  },
  {
   "cell_type": "code",
   "execution_count": 196,
   "metadata": {},
   "outputs": [
    {
     "name": "stdout",
     "output_type": "stream",
     "text": [
      "[0, 0, 0, 0, 0, 1, 1, 1, 0, 0, 0, 1, 1, 1, 0, 0, 1, 0, 0, 0, 1, 1, 1, 1, 0, 0, 0, 0, 0, 0, 0, 0, 0, 0, 0, 0, 0, 0, 0, 0, 1, 0, 1, 0, 0, 0, 0, 0, 0, 0]\n",
      "[1, 1, 1, 1, 1, 2, 2, 2, 1, 1, 1, 2, 2, 2, 1, 1, 2, 1, 1, 1, 2, 2, 2, 2, 1, 1, 0, 0, 0, 0, 0, 0, 0, 0, 0, 0, 1, 1, 0, 0, 2, 0, 2, 1, 1, 1, 1, 1, 1, 1]\n"
     ]
    }
   ],
   "source": [
    "levels = 3\n",
    "allHier = list()\n",
    "for i in range(1,levels):\n",
    "    partFile = \"/home/harry/geographer-dev/partResults/partHKM8_h\" + str(i) + \".out\"\n",
    "    allHier.append( [line.rstrip('\\n') for line in open(partFile)] )\n",
    "    allHier[-1] = [ int(x) for x in allHier[-1][1:] ] \n",
    "print( allHier[0][550:600] )    \n",
    "print( allHier[1][550:600] )    "
   ]
  },
  {
   "cell_type": "code",
   "execution_count": 174,
   "metadata": {},
   "outputs": [
    {
     "name": "stdout",
     "output_type": "stream",
     "text": [
      "[2, 0, 1, 0, 0, 7, 3, 3, 0, 0]\n",
      "[5, 2, 1, 2, 0, 1, 2, 2, 2, 0]\n"
     ]
    }
   ],
   "source": [
    "print( partitionKM[:10] )\n",
    "print( partitionHKM[:10] )"
   ]
  },
  {
   "cell_type": "markdown",
   "metadata": {},
   "source": [
    "## Read coordinates"
   ]
  },
  {
   "cell_type": "code",
   "execution_count": 175,
   "metadata": {},
   "outputs": [
    {
     "name": "stdout",
     "output_type": "stream",
     "text": [
      "['416.000000 1013.333313 0.000000', '314.666656 437.333344 0.000000', '412.000000 382.666656 0.000000', '10.666667 352.000000 0.000000', '400.000000 133.333328 0.000000', '509.333344 328.000000 0.000000', '444.000000 569.333313 0.000000', '444.000000 574.666687 0.000000', '160.000000 10.666667 0.000000', '402.666656 261.333344 0.000000']\n"
     ]
    }
   ],
   "source": [
    "coordsFile = graphPath+\".xyz\"\n",
    "coordsAll = [line.rstrip('\\n') for line in open(coordsFile)]\n",
    "print( coordsAll[:10] )"
   ]
  },
  {
   "cell_type": "code",
   "execution_count": 176,
   "metadata": {},
   "outputs": [
    {
     "name": "stdout",
     "output_type": "stream",
     "text": [
      "1018.666687\n"
     ]
    }
   ],
   "source": [
    "coordsX = [ float(x.split(' ')[0]) for x in coordsAll ]\n",
    "print( max(coordsX) )"
   ]
  },
  {
   "cell_type": "code",
   "execution_count": 179,
   "metadata": {},
   "outputs": [
    {
     "name": "stdout",
     "output_type": "stream",
     "text": [
      "1013.333313\n"
     ]
    }
   ],
   "source": [
    "coordsY = [ float(x.split(' ')[1]) for x in coordsAll ]\n",
    "print( max(coordsY) )"
   ]
  },
  {
   "cell_type": "markdown",
   "metadata": {},
   "source": [
    "## Export data to gephi"
   ]
  },
  {
   "cell_type": "code",
   "execution_count": 180,
   "metadata": {},
   "outputs": [],
   "source": [
    "client = gephi.streaming.GephiStreamingClient(url=\"http://localhost:8080/workspace1\")"
   ]
  },
  {
   "cell_type": "code",
   "execution_count": 181,
   "metadata": {},
   "outputs": [],
   "source": [
    "client.exportGraph(G)\n",
    "client.exportNodeValues(G, partitionKM, \"KM\")\n",
    "client.exportNodeValues(G, partitionHKM, \"HKM\")\n",
    "client.exportNodeValues(G, partitionHKM_h1, \"HKM_h1\")"
   ]
  },
  {
   "cell_type": "code",
   "execution_count": 182,
   "metadata": {},
   "outputs": [],
   "source": [
    "client.exportNodeValues( G, coordsX, \"X\")\n",
    "client.exportNodeValues( G, coordsY, \"Y\")"
   ]
  },
  {
   "cell_type": "code",
   "execution_count": 197,
   "metadata": {},
   "outputs": [
    {
     "name": "stdout",
     "output_type": "stream",
     "text": [
      "2\n",
      "0\n",
      "1\n"
     ]
    }
   ],
   "source": [
    "print( len(allHier) )\n",
    "for i in range(levels-1):\n",
    "    print(i)\n",
    "    client.exportNodeValues(G, allHier[i], \"HKM_h\"+str(i))"
   ]
  },
  {
   "cell_type": "code",
   "execution_count": null,
   "metadata": {},
   "outputs": [],
   "source": []
  }
 ],
 "metadata": {
  "kernelspec": {
   "display_name": "Python 3",
   "language": "python",
   "name": "python3"
  },
  "language_info": {
   "codemirror_mode": {
    "name": "ipython",
    "version": 3
   },
   "file_extension": ".py",
   "mimetype": "text/x-python",
   "name": "python",
   "nbconvert_exporter": "python",
   "pygments_lexer": "ipython3",
   "version": "3.6.7"
  }
 },
 "nbformat": 4,
 "nbformat_minor": 2
}
