{
 "cells": [
  {
   "cell_type": "code",
   "execution_count": 4,
   "metadata": {},
   "outputs": [],
   "source": [
    "from networkit import *\n",
    "import os\n",
    "import numpy as np\n",
    "import sys"
   ]
  },
  {
   "cell_type": "markdown",
   "metadata": {},
   "source": [
    "## Read graph and coordinates"
   ]
  },
  {
   "cell_type": "code",
   "execution_count": 5,
   "metadata": {},
   "outputs": [
    {
     "name": "stdout",
     "output_type": "stream",
     "text": [
      "4163763 12487976\n"
     ]
    }
   ],
   "source": [
    "graphPath = \"/home/harry/geographer-dev/meshes/NLR.graph\"\n",
    "G = readGraph(graphPath, Format.METIS)\n",
    "print( G.numberOfNodes(), G.numberOfEdges() )"
   ]
  },
  {
   "cell_type": "code",
   "execution_count": 8,
   "metadata": {},
   "outputs": [
    {
     "name": "stdout",
     "output_type": "stream",
     "text": [
      "['11.65750000 0.00000000', '11.65750000 0.00001838', '11.65750000 0.00004104', '11.65750000 0.00007238', '11.65750000 0.00011698', '11.65750000 0.00017941', '11.65750000 0.00026403', '11.65750000 0.00037547', '11.65750000 0.00051992', '11.65750000 0.00070690']\n"
     ]
    }
   ],
   "source": [
    "coordsFile = graphPath+\".xyz\"\n",
    "coordsAll = [line.rstrip('\\n') for line in open(coordsFile) if not line.startswith('%')]\n",
    "print( coordsAll[:10] )"
   ]
  },
  {
   "cell_type": "code",
   "execution_count": 9,
   "metadata": {},
   "outputs": [
    {
     "name": "stdout",
     "output_type": "stream",
     "text": [
      "11.6575\n"
     ]
    }
   ],
   "source": [
    "coordsX = [ float(x.split(' ')[0]) for x in coordsAll ]\n",
    "print( max(coordsX) )"
   ]
  },
  {
   "cell_type": "code",
   "execution_count": 10,
   "metadata": {},
   "outputs": [
    {
     "name": "stdout",
     "output_type": "stream",
     "text": [
      "10.5977\n"
     ]
    }
   ],
   "source": [
    "coordsY = [ float(x.split(' ')[1]) for x in coordsAll ]\n",
    "print( max(coordsY) )"
   ]
  },
  {
   "cell_type": "markdown",
   "metadata": {},
   "source": [
    "## Read partitions"
   ]
  },
  {
   "cell_type": "code",
   "execution_count": 60,
   "metadata": {},
   "outputs": [],
   "source": [
    "#read partitions\n",
    "\n",
    "partFile = \"/home/harry/geographer-dev/partResults/partKM8.out\"\n",
    "partitionKM = [line.rstrip('\\n') for line in open(partFile)]"
   ]
  },
  {
   "cell_type": "code",
   "execution_count": 61,
   "metadata": {},
   "outputs": [],
   "source": [
    "partFile = \"/home/harry/geographer-dev/partResults/partHKM8.out\"\n",
    "partitionHKM =  [line.rstrip('\\n') for line in open(partFile)]"
   ]
  },
  {
   "cell_type": "code",
   "execution_count": 62,
   "metadata": {},
   "outputs": [
    {
     "name": "stdout",
     "output_type": "stream",
     "text": [
      "15037\n"
     ]
    }
   ],
   "source": [
    "print( len(partitionKM) )\n",
    "#print( len(partitionHKM_h1) )"
   ]
  },
  {
   "cell_type": "code",
   "execution_count": 63,
   "metadata": {},
   "outputs": [
    {
     "name": "stdout",
     "output_type": "stream",
     "text": [
      "['% 15036', '2', '2', '4', '4', '4', '2', '7', '7', '7']\n",
      "['% 15036', '2', '2', '4', '4', '4', '2', '6', '6', '7']\n"
     ]
    }
   ],
   "source": [
    "print( partitionKM[:10] )\n",
    "print( partitionHKM[:10] )"
   ]
  },
  {
   "cell_type": "code",
   "execution_count": 64,
   "metadata": {},
   "outputs": [],
   "source": [
    "# turn to int, remove first line\n",
    "\n",
    "#partitionHKM_h1 = [ int(x) for x in partitionHKM_h1[1:] ]\n",
    "#partitionHKM_h2 = [ int(x) for x in partitionHKM_h2[1:] ]\n",
    "#assert( len(partitionHKM_h1)==len(partitionHKM_h2) )\n",
    "\n",
    "partitionHKM = [ int(x) for x in partitionHKM[1:] ]\n",
    "partitionKM = [ int(x) for x in partitionKM[1:] ]\n",
    "\n"
   ]
  },
  {
   "cell_type": "code",
   "execution_count": 54,
   "metadata": {},
   "outputs": [
    {
     "name": "stdout",
     "output_type": "stream",
     "text": [
      "[0, 0, 0, 0, 0, 0, 0, 0, 0, 0]\n",
      "[1, 1, 1, 1, 1, 1, 1, 1, 1, 1]\n"
     ]
    }
   ],
   "source": [
    "# read the partitions for the different hierarchy levels\n",
    "\n",
    "levels = 3\n",
    "allHier = list()\n",
    "for i in range(1,levels):\n",
    "    partFile = \"/home/harry/geographer-dev/partResults/partHKM10_h\" + str(i) + \".out\"\n",
    "    allHier.append( [line.rstrip('\\n') for line in open(partFile)] )\n",
    "    allHier[-1] = [ int(x) for x in allHier[-1] ] \n",
    "print( allHier[0][0:10] )    \n",
    "print( allHier[1][0:10] )    "
   ]
  },
  {
   "cell_type": "markdown",
   "metadata": {},
   "source": [
    "## Export data to gephi"
   ]
  },
  {
   "cell_type": "code",
   "execution_count": 13,
   "metadata": {},
   "outputs": [],
   "source": [
    "client = gephi.streaming.GephiStreamingClient(url=\"http://localhost:8080/workspace1\")"
   ]
  },
  {
   "cell_type": "code",
   "execution_count": 14,
   "metadata": {},
   "outputs": [
    {
     "name": "stdout",
     "output_type": "stream",
     "text": [
      "Could not connect to the gephi streaming plugin.\n",
      "Did you start the streaming master server in gephi and provide the name of your workspace?\n",
      "If the workspace is named 'Workspace 0', the corresponding url is http://localhost:8080/workspace0 (adapt port)\n"
     ]
    }
   ],
   "source": [
    "client.exportGraph(G)"
   ]
  },
  {
   "cell_type": "code",
   "execution_count": 12,
   "metadata": {},
   "outputs": [
    {
     "name": "stdout",
     "output_type": "stream",
     "text": [
      "Could not connect to the gephi streaming plugin.\n",
      "Did you start the streaming master server in gephi and provide the name of your workspace?\n",
      "If the workspace is named 'Workspace 0', the corresponding url is http://localhost:8080/workspace0 (adapt port)\n",
      "Could not connect to the gephi streaming plugin.\n",
      "Did you start the streaming master server in gephi and provide the name of your workspace?\n",
      "If the workspace is named 'Workspace 0', the corresponding url is http://localhost:8080/workspace0 (adapt port)\n"
     ]
    }
   ],
   "source": [
    "client.exportNodeValues( G, coordsX, \"X\")\n",
    "client.exportNodeValues( G, coordsY, \"Y\")"
   ]
  },
  {
   "cell_type": "code",
   "execution_count": 69,
   "metadata": {},
   "outputs": [],
   "source": [
    "client.exportNodeValues(G, partitionKM, \"KM\")\n",
    "client.exportNodeValues(G, partitionHKM, \"HKM\")\n",
    "\n",
    "#client.exportNodeValues(G, allHier[0], \"HKM_h1\")\n",
    "#client.exportNodeValues(G, allHier[1], \"HKM_h2\")"
   ]
  },
  {
   "cell_type": "code",
   "execution_count": 40,
   "metadata": {},
   "outputs": [
    {
     "name": "stdout",
     "output_type": "stream",
     "text": [
      "2\n",
      "0\n",
      "1\n"
     ]
    }
   ],
   "source": [
    "print( len(allHier) )\n",
    "for i in range(levels-1):\n",
    "    print(i)\n",
    "    client.exportNodeValues(G, allHier[i], \"HKM_h\"+str(i))"
   ]
  },
  {
   "cell_type": "code",
   "execution_count": null,
   "metadata": {},
   "outputs": [],
   "source": []
  }
 ],
 "metadata": {
  "kernelspec": {
   "display_name": "Python 3",
   "language": "python",
   "name": "python3"
  },
  "language_info": {
   "codemirror_mode": {
    "name": "ipython",
    "version": 3
   },
   "file_extension": ".py",
   "mimetype": "text/x-python",
   "name": "python",
   "nbconvert_exporter": "python",
   "pygments_lexer": "ipython3",
   "version": "3.6.7"
  }
 },
 "nbformat": 4,
 "nbformat_minor": 2
}
