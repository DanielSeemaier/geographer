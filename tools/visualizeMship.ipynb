{
 "cells": [
  {
   "cell_type": "code",
   "execution_count": null,
   "metadata": {},
   "outputs": [],
   "source": [
    "from networkit import *\n",
    "import os\n",
    "import numpy as np\n",
    "import sys"
   ]
  },
  {
   "cell_type": "markdown",
   "metadata": {},
   "source": [
    "## Read graph and coordinates"
   ]
  },
  {
   "cell_type": "code",
   "execution_count": null,
   "metadata": {},
   "outputs": [],
   "source": [
    "graphPath = \"/home/harry/geographer/meshes/rotation-00000.graph\"\n",
    "#graphPath = \"/home/harry/supermuc/mairy/sofi_graph_2D_s200_vg1_fd1.graph\""
   ]
  },
  {
   "cell_type": "code",
   "execution_count": null,
   "metadata": {},
   "outputs": [],
   "source": [
    "G = readGraph(graphPath, Format.METIS)\n",
    "print( G.numberOfNodes(), G.numberOfEdges() )"
   ]
  },
  {
   "cell_type": "code",
   "execution_count": null,
   "metadata": {},
   "outputs": [],
   "source": [
    "coordsFile = graphPath+\".xyz\"\n",
    "coordsAll = [line.rstrip('\\n') for line in open(coordsFile) if not line.startswith('%')]\n",
    "print( coordsAll[:10] )"
   ]
  },
  {
   "cell_type": "code",
   "execution_count": null,
   "metadata": {},
   "outputs": [],
   "source": [
    "coordsX = [ float(x.split(' ')[0]) for x in coordsAll ]\n",
    "print( max(coordsX) )"
   ]
  },
  {
   "cell_type": "code",
   "execution_count": null,
   "metadata": {},
   "outputs": [],
   "source": [
    "coordsY = [ float(x.split(' ')[1]) for x in coordsAll ]\n",
    "print( max(coordsY) )"
   ]
  },
  {
   "cell_type": "code",
   "execution_count": null,
   "metadata": {},
   "outputs": [],
   "source": [
    "#coordsZ = [ float(x.split(' ')[2]) for x in coordsAll ]\n",
    "#print( max(coordsZ) )"
   ]
  },
  {
   "cell_type": "markdown",
   "metadata": {},
   "source": [
    "## Export data to gephi"
   ]
  },
  {
   "cell_type": "code",
   "execution_count": null,
   "metadata": {},
   "outputs": [],
   "source": [
    "client = gephi.streaming.GephiStreamingClient(url=\"http://localhost:8080/workspace1\")"
   ]
  },
  {
   "cell_type": "code",
   "execution_count": null,
   "metadata": {},
   "outputs": [],
   "source": [
    "client.exportGraph(G)"
   ]
  },
  {
   "cell_type": "code",
   "execution_count": null,
   "metadata": {},
   "outputs": [],
   "source": [
    "#client.exportNodeValues( G1, [coordsX[i] for i in S], \"X\")\n",
    "#client.exportNodeValues( G1, [coordsY[i] for i in S], \"Y\")\n",
    "\n",
    "client.exportNodeValues( G, coordsX, \"X\")\n",
    "client.exportNodeValues( G, coordsY, \"Y\")"
   ]
  },
  {
   "cell_type": "markdown",
   "metadata": {},
   "source": [
    "## Read partitions"
   ]
  },
  {
   "cell_type": "code",
   "execution_count": null,
   "metadata": {},
   "outputs": [],
   "source": [
    "#for a single file\n",
    "direc = \"/home/harry/geographer/testing/\"\n",
    "filename = \"mshipSort.part\"\n",
    "\n",
    "#partitiona = dict()\n",
    "\n",
    "partition = [line.rstrip('\\n') for line in open(direc+filename) if not line.startswith('%')]\n",
    "client.exportNodeValues(G, partition, \"kmeans\" )"
   ]
  },
  {
   "cell_type": "markdown",
   "metadata": {},
   "source": [
    "## Read membership values"
   ]
  },
  {
   "cell_type": "code",
   "execution_count": null,
   "metadata": {},
   "outputs": [],
   "source": [
    "mshipFile = \"mships.txt\"\n",
    "\n",
    "mship = [ int(line.rstrip('\\n')) for line in open(direc+mshipFile) if not line.startswith('%')]\n",
    "print(mship[:20])\n",
    "client.exportNodeValues(G, mship, \"mship\" )"
   ]
  },
  {
   "cell_type": "code",
   "execution_count": null,
   "metadata": {},
   "outputs": [],
   "source": []
  }
 ],
 "metadata": {
  "kernelspec": {
   "display_name": "Python 3",
   "language": "python",
   "name": "python3"
  },
  "language_info": {
   "codemirror_mode": {
    "name": "ipython",
    "version": 3
   },
   "file_extension": ".py",
   "mimetype": "text/x-python",
   "name": "python",
   "nbconvert_exporter": "python",
   "pygments_lexer": "ipython3",
   "version": "3.6.9"
  }
 },
 "nbformat": 4,
 "nbformat_minor": 2
}
