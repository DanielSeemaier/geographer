{
 "cells": [
  {
   "cell_type": "code",
   "execution_count": 2,
   "metadata": {},
   "outputs": [],
   "source": [
    "from networkit import *\n",
    "import os\n",
    "import numpy as np\n",
    "import sys"
   ]
  },
  {
   "cell_type": "markdown",
   "metadata": {},
   "source": [
    "## Read graph and coordinates"
   ]
  },
  {
   "cell_type": "code",
   "execution_count": 14,
   "metadata": {},
   "outputs": [],
   "source": [
    "graphPath = \"/home/harry/geographer/meshes/rotation-00000.graph\"\n",
    "#graphPath = \"/home/harry/supermuc/mairy/sofi_graph_2D_s200_vg1_fd1.graph\""
   ]
  },
  {
   "cell_type": "code",
   "execution_count": 15,
   "metadata": {},
   "outputs": [
    {
     "name": "stdout",
     "output_type": "stream",
     "text": [
      "10361 15411\n"
     ]
    }
   ],
   "source": [
    "G = readGraph(graphPath, Format.METIS)\n",
    "print( G.numberOfNodes(), G.numberOfEdges() )"
   ]
  },
  {
   "cell_type": "code",
   "execution_count": 16,
   "metadata": {},
   "outputs": [
    {
     "name": "stdout",
     "output_type": "stream",
     "text": [
      "['74.666664 480.000000 0.000000', '685.333313 520.000000 0.000000', '561.500000 504.166656 0.000000', '568.833313 512.500000 0.000000', '568.000000 637.333313 0.000000', '568.000000 386.666656 0.000000', '434.666656 504.000000 0.000000', '566.500000 516.833313 0.000000', '565.833313 506.500000 0.000000', '472.000000 434.666656 0.000000']\n"
     ]
    }
   ],
   "source": [
    "coordsFile = graphPath+\".xyz\"\n",
    "coordsAll = [line.rstrip('\\n') for line in open(coordsFile) if not line.startswith('%')]\n",
    "print( coordsAll[:10] )"
   ]
  },
  {
   "cell_type": "code",
   "execution_count": 17,
   "metadata": {},
   "outputs": [
    {
     "name": "stdout",
     "output_type": "stream",
     "text": [
      "1013.333313\n"
     ]
    }
   ],
   "source": [
    "coordsX = [ float(x.split(' ')[0]) for x in coordsAll ]\n",
    "print( max(coordsX) )"
   ]
  },
  {
   "cell_type": "code",
   "execution_count": 18,
   "metadata": {},
   "outputs": [
    {
     "name": "stdout",
     "output_type": "stream",
     "text": [
      "1013.333313\n"
     ]
    }
   ],
   "source": [
    "coordsY = [ float(x.split(' ')[1]) for x in coordsAll ]\n",
    "print( max(coordsY) )"
   ]
  },
  {
   "cell_type": "code",
   "execution_count": 19,
   "metadata": {},
   "outputs": [],
   "source": [
    "#coordsZ = [ float(x.split(' ')[2]) for x in coordsAll ]\n",
    "#print( max(coordsZ) )"
   ]
  },
  {
   "cell_type": "markdown",
   "metadata": {},
   "source": [
    "## Export data to gephi"
   ]
  },
  {
   "cell_type": "code",
   "execution_count": 24,
   "metadata": {},
   "outputs": [],
   "source": [
    "client = gephi.streaming.GephiStreamingClient(url=\"http://localhost:8080/workspace1\")"
   ]
  },
  {
   "cell_type": "code",
   "execution_count": 25,
   "metadata": {},
   "outputs": [],
   "source": [
    "client.exportGraph(G)"
   ]
  },
  {
   "cell_type": "code",
   "execution_count": 26,
   "metadata": {},
   "outputs": [],
   "source": [
    "#client.exportNodeValues( G1, [coordsX[i] for i in S], \"X\")\n",
    "#client.exportNodeValues( G1, [coordsY[i] for i in S], \"Y\")\n",
    "\n",
    "client.exportNodeValues( G, coordsX, \"X\")\n",
    "client.exportNodeValues( G, coordsY, \"Y\")"
   ]
  },
  {
   "cell_type": "markdown",
   "metadata": {},
   "source": [
    "## Read partitions"
   ]
  },
  {
   "cell_type": "code",
   "execution_count": 27,
   "metadata": {},
   "outputs": [],
   "source": [
    "#for a single file\n",
    "direc = \"/home/harry/geographer/testing/\"\n",
    "filename = \"mshipSort.part\"\n",
    "\n",
    "#partitiona = dict()\n",
    "\n",
    "partition = [line.rstrip('\\n') for line in open(direc+filename) if not line.startswith('%')]\n",
    "client.exportNodeValues(G, partition, \"kmeans\" )"
   ]
  },
  {
   "cell_type": "markdown",
   "metadata": {},
   "source": [
    "## Read membership values"
   ]
  },
  {
   "cell_type": "code",
   "execution_count": 28,
   "metadata": {},
   "outputs": [
    {
     "name": "stdout",
     "output_type": "stream",
     "text": [
      "[18, 31, 68, 85, 22, 22, 19, 83, 78, 21, 22, 29, 29, 19, 21, 46, 50, 18, 19, 26]\n"
     ]
    }
   ],
   "source": [
    "mshipFile = \"mships.txt\"\n",
    "\n",
    "mship = [ int(line.rstrip('\\n')) for line in open(direc+mshipFile) if not line.startswith('%')]\n",
    "print(mship[:20])\n",
    "client.exportNodeValues(G, mship, \"mship\" )"
   ]
  },
  {
   "cell_type": "code",
   "execution_count": null,
   "metadata": {},
   "outputs": [],
   "source": []
  }
 ],
 "metadata": {
  "kernelspec": {
   "display_name": "Python 3",
   "language": "python",
   "name": "python3"
  },
  "language_info": {
   "codemirror_mode": {
    "name": "ipython",
    "version": 3
   },
   "file_extension": ".py",
   "mimetype": "text/x-python",
   "name": "python",
   "nbconvert_exporter": "python",
   "pygments_lexer": "ipython3",
   "version": "3.6.9"
  }
 },
 "nbformat": 4,
 "nbformat_minor": 2
}
