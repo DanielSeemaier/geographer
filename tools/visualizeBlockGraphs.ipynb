{
 "cells": [
  {
   "cell_type": "code",
   "execution_count": 1,
   "metadata": {},
   "outputs": [
    {
     "data": {
      "text/html": [
       "\n",
       "\t\t\t<script type=\"text/javascript\">\n",
       "\t\t\t<!--\n",
       "\t\t\t\t\n",
       "\t\t\t{\n",
       "\t\t\t\tvar element = document.getElementById('NetworKit_script');\n",
       "\t\t\t\tif (element) {\n",
       "\t\t\t\t\telement.parentNode.removeChild(element);\n",
       "\t\t\t\t}\n",
       "\t\t\t\telement = document.createElement('script');\n",
       "\t\t\t\telement.type = 'text/javascript';\n",
       "\t\t\t\telement.innerHTML = 'function NetworKit_pageEmbed(id) { var i, j; var elements; elements = document.getElementById(id).getElementsByClassName(\"Plot\"); for (i=0; i<elements.length; i++) { elements[i].id = id + \"_Plot_\" + i; var data = elements[i].getAttribute(\"data-image\").split(\"|\"); elements[i].removeAttribute(\"data-image\"); var content = \"<div class=\\\\\"Image\\\\\" id=\\\\\"\" + elements[i].id + \"_Image\\\\\" />\"; elements[i].innerHTML = content; elements[i].setAttribute(\"data-image-index\", 0); elements[i].setAttribute(\"data-image-length\", data.length); for (j=0; j<data.length; j++) { elements[i].setAttribute(\"data-image-\" + j, data[j]); } NetworKit_plotUpdate(elements[i]); elements[i].onclick = function (e) { NetworKit_overlayShow((e.target) ? e.target : e.srcElement); } } elements = document.getElementById(id).getElementsByClassName(\"HeatCell\"); for (i=0; i<elements.length; i++) { var data = parseFloat(elements[i].getAttribute(\"data-heat\")); var color = \"#00FF00\"; if (data <= 1 && data > 0) { color = \"hsla(0, 100%, 75%, \" + (data) + \")\"; } else if (data <= 0 && data >= -1) { color = \"hsla(240, 100%, 75%, \" + (-data) + \")\"; } elements[i].style.backgroundColor = color; } elements = document.getElementById(id).getElementsByClassName(\"Details\"); for (i=0; i<elements.length; i++) { elements[i].setAttribute(\"data-title\", \"-\"); NetworKit_toggleDetails(elements[i]); elements[i].onclick = function (e) { NetworKit_toggleDetails((e.target) ? e.target : e.srcElement); } } elements = document.getElementById(id).getElementsByClassName(\"MathValue\"); for (i=elements.length-1; i>=0; i--) { value = elements[i].innerHTML.trim(); if (value === \"nan\") { elements[i].parentNode.innerHTML = \"\" } } elements = document.getElementById(id).getElementsByClassName(\"SubCategory\"); for (i=elements.length-1; i>=0; i--) { value = elements[i].innerHTML.trim(); if (value === \"\") { elements[i].parentNode.removeChild(elements[i]) } } elements = document.getElementById(id).getElementsByClassName(\"Category\"); for (i=elements.length-1; i>=0; i--) { value = elements[i].innerHTML.trim(); if (value === \"\") { elements[i].parentNode.removeChild(elements[i]) } } var isFirefox = false; try { isFirefox = typeof InstallTrigger !== \"undefined\"; } catch (e) {} if (!isFirefox) { alert(\"Currently the function\\'s output is only fully supported by Firefox.\"); } } function NetworKit_plotUpdate(source) { var index = source.getAttribute(\"data-image-index\"); var data = source.getAttribute(\"data-image-\" + index); var image = document.getElementById(source.id + \"_Image\"); image.style.backgroundImage = \"url(\" + data + \")\"; } function NetworKit_showElement(id, show) { var element = document.getElementById(id); element.style.display = (show) ? \"block\" : \"none\"; } function NetworKit_overlayShow(source) { NetworKit_overlayUpdate(source); NetworKit_showElement(\"NetworKit_Overlay\", true); } function NetworKit_overlayUpdate(source) { document.getElementById(\"NetworKit_Overlay_Title\").innerHTML = source.title; var index = source.getAttribute(\"data-image-index\"); var data = source.getAttribute(\"data-image-\" + index); var image = document.getElementById(\"NetworKit_Overlay_Image\"); image.setAttribute(\"data-id\", source.id); image.style.backgroundImage = \"url(\" + data + \")\"; var link = document.getElementById(\"NetworKit_Overlay_Toolbar_Bottom_Save\"); link.href = data; link.download = source.title + \".svg\"; } function NetworKit_overlayImageShift(delta) { var image = document.getElementById(\"NetworKit_Overlay_Image\"); var source = document.getElementById(image.getAttribute(\"data-id\")); var index = parseInt(source.getAttribute(\"data-image-index\")); var length = parseInt(source.getAttribute(\"data-image-length\")); var index = (index+delta) % length; if (index < 0) { index = length + index; } source.setAttribute(\"data-image-index\", index); NetworKit_overlayUpdate(source); } function NetworKit_toggleDetails(source) { var childs = source.children; var show = false; if (source.getAttribute(\"data-title\") == \"-\") { source.setAttribute(\"data-title\", \"+\"); show = false; } else { source.setAttribute(\"data-title\", \"-\"); show = true; } for (i=0; i<childs.length; i++) { if (show) { childs[i].style.display = \"block\"; } else { childs[i].style.display = \"none\"; } } }';\n",
       "\t\t\t\telement.setAttribute('id', 'NetworKit_script');\n",
       "\t\t\t\tdocument.head.appendChild(element);\n",
       "\t\t\t}\n",
       "\t\t\n",
       "\t\t\t\t\n",
       "\t\t\t{\n",
       "\t\t\t\tvar element = document.getElementById('NetworKit_style');\n",
       "\t\t\t\tif (element) {\n",
       "\t\t\t\t\telement.parentNode.removeChild(element);\n",
       "\t\t\t\t}\n",
       "\t\t\t\telement = document.createElement('style');\n",
       "\t\t\t\telement.type = 'text/css';\n",
       "\t\t\t\telement.innerHTML = '.NetworKit_Page { font-family: Arial, Helvetica, sans-serif; font-size: 14px; } .NetworKit_Page .Value:before { font-family: Arial, Helvetica, sans-serif; font-size: 1.05em; content: attr(data-title) \":\"; margin-left: -2.5em; padding-right: 0.5em; } .NetworKit_Page .Details .Value:before { display: block; } .NetworKit_Page .Value { font-family: monospace; white-space: pre; padding-left: 2.5em; white-space: -moz-pre-wrap !important; white-space: -pre-wrap; white-space: -o-pre-wrap; white-space: pre-wrap; word-wrap: break-word; tab-size: 4; -moz-tab-size: 4; } .NetworKit_Page .Category { clear: both; padding-left: 1em; margin-bottom: 1.5em; } .NetworKit_Page .Category:before { content: attr(data-title); font-size: 1.75em; display: block; margin-left: -0.8em; margin-bottom: 0.5em; } .NetworKit_Page .SubCategory { margin-bottom: 1.5em; padding-left: 1em; } .NetworKit_Page .SubCategory:before { font-size: 1.6em; display: block; margin-left: -0.8em; margin-bottom: 0.5em; } .NetworKit_Page .SubCategory[data-title]:before { content: attr(data-title); } .NetworKit_Page .Block { display: block; } .NetworKit_Page .Block:after { content: \".\"; visibility: hidden; display: block; height: 0; clear: both; } .NetworKit_Page .Block .Thumbnail_Overview, .NetworKit_Page .Block .Thumbnail_ScatterPlot { width: 260px; float: left; } .NetworKit_Page .Block .Thumbnail_Overview img, .NetworKit_Page .Block .Thumbnail_ScatterPlot img { width: 260px; } .NetworKit_Page .Block .Thumbnail_Overview:before, .NetworKit_Page .Block .Thumbnail_ScatterPlot:before { display: block; text-align: center; font-weight: bold; } .NetworKit_Page .Block .Thumbnail_Overview:before { content: attr(data-title); } .NetworKit_Page .HeatCell { font-family: \"Courier New\", Courier, monospace; cursor: pointer; } .NetworKit_Page .HeatCell, .NetworKit_Page .HeatCellName { display: inline; padding: 0.1em; margin-right: 2px; background-color: #FFFFFF } .NetworKit_Page .HeatCellName { margin-left: 0.25em; } .NetworKit_Page .HeatCell:before { content: attr(data-heat); display: inline-block; color: #000000; width: 4em; text-align: center; } .NetworKit_Page .Measure { clear: both; } .NetworKit_Page .Measure .Details { cursor: pointer; } .NetworKit_Page .Measure .Details:before { content: \"[\" attr(data-title) \"]\"; display: block; } .NetworKit_Page .Measure .Details .Value { border-left: 1px dotted black; margin-left: 0.4em; padding-left: 3.5em; pointer-events: none; } .NetworKit_Page .Measure .Details .Spacer:before { content: \".\"; opacity: 0.0; pointer-events: none; } .NetworKit_Page .Measure .Plot { width: 440px; height: 440px; cursor: pointer; float: left; margin-left: -0.9em; margin-right: 20px; } .NetworKit_Page .Measure .Plot .Image { background-repeat: no-repeat; background-position: center center; background-size: contain; height: 100%; pointer-events: none; } .NetworKit_Page .Measure .Stat { width: 500px; float: left; } .NetworKit_Page .Measure .Stat .Group { padding-left: 1.25em; margin-bottom: 0.75em; } .NetworKit_Page .Measure .Stat .Group .Title { font-size: 1.1em; display: block; margin-bottom: 0.3em; margin-left: -0.75em; border-right-style: dotted; border-right-width: 1px; border-bottom-style: dotted; border-bottom-width: 1px; background-color: #D0D0D0; padding-left: 0.2em; } .NetworKit_Page .Measure .Stat .Group .List { -webkit-column-count: 3; -moz-column-count: 3; column-count: 3; } .NetworKit_Page .Measure .Stat .Group .List .Entry { position: relative; line-height: 1.75em; } .NetworKit_Page .Measure .Stat .Group .List .Entry[data-tooltip]:before { position: absolute; left: 0; top: -40px; background-color: #808080; color: #ffffff; height: 30px; line-height: 30px; border-radius: 5px; padding: 0 15px; content: attr(data-tooltip); white-space: nowrap; display: none; } .NetworKit_Page .Measure .Stat .Group .List .Entry[data-tooltip]:after { position: absolute; left: 15px; top: -10px; border-top: 7px solid #808080; border-left: 7px solid transparent; border-right: 7px solid transparent; content: \"\"; display: none; } .NetworKit_Page .Measure .Stat .Group .List .Entry[data-tooltip]:hover:after, .NetworKit_Page .Measure .Stat .Group .List .Entry[data-tooltip]:hover:before { display: block; } .NetworKit_Page .Measure .Stat .Group .List .Entry .MathValue { font-family: \"Courier New\", Courier, monospace; } .NetworKit_Page .Measure:after { content: \".\"; visibility: hidden; display: block; height: 0; clear: both; } .NetworKit_Page .PartitionPie { clear: both; } .NetworKit_Page .PartitionPie img { width: 600px; } #NetworKit_Overlay { left: 0px; top: 0px; display: none; position: absolute; width: 100%; height: 100%; background-color: rgba(0,0,0,0.6); z-index: 1000; } #NetworKit_Overlay_Title { position: absolute; color: white; transform: rotate(-90deg); width: 32em; height: 32em; padding-right: 0.5em; padding-top: 0.5em; text-align: right; font-size: 40px; } #NetworKit_Overlay .button { background: white; cursor: pointer; } #NetworKit_Overlay .button:before { size: 13px; display: inline-block; text-align: center; margin-top: 0.5em; margin-bottom: 0.5em; width: 1.5em; height: 1.5em; } #NetworKit_Overlay .icon-close:before { content: \"X\"; } #NetworKit_Overlay .icon-previous:before { content: \"P\"; } #NetworKit_Overlay .icon-next:before { content: \"N\"; } #NetworKit_Overlay .icon-save:before { content: \"S\"; } #NetworKit_Overlay_Toolbar_Top, #NetworKit_Overlay_Toolbar_Bottom { position: absolute; width: 40px; right: 13px; text-align: right; z-index: 1100; } #NetworKit_Overlay_Toolbar_Top { top: 0.5em; } #NetworKit_Overlay_Toolbar_Bottom { Bottom: 0.5em; } #NetworKit_Overlay_ImageContainer { position: absolute; top: 5%; left: 5%; height: 90%; width: 90%; background-repeat: no-repeat; background-position: center center; background-size: contain; } #NetworKit_Overlay_Image { height: 100%; width: 100%; background-repeat: no-repeat; background-position: center center; background-size: contain; }';\n",
       "\t\t\t\telement.setAttribute('id', 'NetworKit_style');\n",
       "\t\t\t\tdocument.head.appendChild(element);\n",
       "\t\t\t}\n",
       "\t\t\n",
       "\t\t\t\t\n",
       "\t\t\t{\n",
       "\t\t\t\tvar element = document.getElementById('NetworKit_Overlay');\n",
       "\t\t\t\tif (element) {\n",
       "\t\t\t\t\telement.parentNode.removeChild(element);\n",
       "\t\t\t\t}\n",
       "\t\t\t\telement = document.createElement('div');\n",
       "\t\t\t\telement.innerHTML = '<div id=\"NetworKit_Overlay_Toolbar_Top\"><div class=\"button icon-close\" id=\"NetworKit_Overlay_Close\" /></div><div id=\"NetworKit_Overlay_Title\" /> <div id=\"NetworKit_Overlay_ImageContainer\"> <div id=\"NetworKit_Overlay_Image\" /> </div> <div id=\"NetworKit_Overlay_Toolbar_Bottom\"> <div class=\"button icon-previous\" onclick=\"NetworKit_overlayImageShift(-1)\" /> <div class=\"button icon-next\" onclick=\"NetworKit_overlayImageShift(1)\" /> <a id=\"NetworKit_Overlay_Toolbar_Bottom_Save\"><div class=\"button icon-save\" /></a> </div>';\n",
       "\t\t\t\telement.setAttribute('id', 'NetworKit_Overlay');\n",
       "\t\t\t\tdocument.body.appendChild(element);\n",
       "\t\t\t\tdocument.getElementById('NetworKit_Overlay_Close').onclick = function (e) {\n",
       "\t\t\t\t\tdocument.getElementById('NetworKit_Overlay').style.display = 'none';\n",
       "\t\t\t\t}\n",
       "\t\t\t}\n",
       "\t\t\n",
       "\t\t\t-->\n",
       "\t\t\t</script>\n",
       "\t\t"
      ]
     },
     "metadata": {},
     "output_type": "display_data"
    }
   ],
   "source": [
    "from networkit import *\n",
    "import os\n",
    "import numpy as np\n",
    "import sys"
   ]
  },
  {
   "cell_type": "code",
   "execution_count": 2,
   "metadata": {},
   "outputs": [],
   "source": [
    "def maxEdge(G):\n",
    "    maxWeight = 0;\n",
    "    minWeight = sys.maxsize\n",
    "    sumW = 0\n",
    "    def mamE(u,v,weight,ID):\n",
    "        #print( weight )\n",
    "        nonlocal maxWeight\n",
    "        nonlocal minWeight\n",
    "        nonlocal sumW\n",
    "        sumW+= weight\n",
    "        \n",
    "        if weight>maxWeight:\n",
    "            maxWeight = weight\n",
    "        if weight<minWeight:\n",
    "            minWeight = weight\n",
    "            \n",
    "    G.forEdges( mamE )\n",
    "    \n",
    "    avgWeight = sumW/G.numberOfEdges()\n",
    "    \n",
    "    return minWeight, avgWeight, maxWeight"
   ]
  },
  {
   "cell_type": "code",
   "execution_count": 3,
   "metadata": {},
   "outputs": [],
   "source": [
    "def edgeWeights(G):\n",
    "    weights = list()\n",
    "    def getW(u,v,w,i):\n",
    "        weights.append(w)\n",
    "    G.forEdges( getW )\n",
    "    \n",
    "    return weights"
   ]
  },
  {
   "cell_type": "code",
   "execution_count": 4,
   "metadata": {},
   "outputs": [],
   "source": [
    "def nodeLabels(G):\n",
    "    labels = list()\n",
    "    def extrL(u):\n",
    "        nonlocal labels\n",
    "        labels.append(u)\n",
    "        \n",
    "    G.forNodes( extrL )\n",
    "    return labels"
   ]
  },
  {
   "cell_type": "code",
   "execution_count": 16,
   "metadata": {},
   "outputs": [],
   "source": [
    "def commonNeighborhood( G, u, v):\n",
    "    return list( set(G.neighbors(u)) & set(G.neighbors(v)) )"
   ]
  },
  {
   "cell_type": "markdown",
   "metadata": {},
   "source": [
    "## Export regular k-means block graph"
   ]
  },
  {
   "cell_type": "code",
   "execution_count": 11,
   "metadata": {},
   "outputs": [],
   "source": [
    "client = gephi.streaming.GephiStreamingClient(url=\"http://localhost:8080/workspace1\")"
   ]
  },
  {
   "cell_type": "code",
   "execution_count": 12,
   "metadata": {},
   "outputs": [
    {
     "name": "stdout",
     "output_type": "stream",
     "text": [
      "True\n",
      "maxWeightedDegree 122728.0\n",
      "maxDegree 17\n",
      "totalEdgeWeight 1180357.0\n",
      "minWeight, avgWeight, maxWeight\n",
      "1.0 7921.859060402685 22230.0\n"
     ]
    }
   ],
   "source": [
    "#graphPath = \"/home/harry/geographer-dev/meshes/PEgraphs/rgg_n_2_24_s0.graph_k512.PEgraph\"\n",
    "graphPath = \"/home/harry/geographer/tracing_data/delaunay3D008M_k28/delaunay3D008M.bgf_k28.PEgraph\"\n",
    "G = readGraph(graphPath, Format.METIS)\n",
    "print( G.isWeighted() )\n",
    "print( \"maxWeightedDegree\", G.maxWeightedDegree() )\n",
    "print( \"maxDegree\", G.maxDegree() )\n",
    "print( \"totalEdgeWeight\", G.totalEdgeWeight() )\n",
    "minWeight, avgWeight, maxWeight = maxEdge(G)\n",
    "print( \"minWeight, avgWeight, maxWeight\")\n",
    "print( minWeight, avgWeight, maxWeight )"
   ]
  },
  {
   "cell_type": "code",
   "execution_count": 13,
   "metadata": {},
   "outputs": [],
   "source": [
    "client.exportGraph(G)"
   ]
  },
  {
   "cell_type": "code",
   "execution_count": 14,
   "metadata": {},
   "outputs": [],
   "source": [
    "weights = edgeWeights(G)\n",
    "client.exportEdgeValues(G, weights, \"edge weights\")"
   ]
  },
  {
   "cell_type": "code",
   "execution_count": 15,
   "metadata": {},
   "outputs": [],
   "source": [
    "labels = nodeLabels(G)\n",
    "client.exportNodeValues(G, labels, \"Label\")"
   ]
  },
  {
   "cell_type": "code",
   "execution_count": 45,
   "metadata": {},
   "outputs": [
    {
     "name": "stdout",
     "output_type": "stream",
     "text": [
      "0 17\n",
      "0 18\n",
      "0 19\n",
      "N2(0)=  28\n",
      "N2(1)=  28\n",
      "N2(2)=  28\n",
      "3 14\n",
      "3 17\n",
      "3 18\n",
      "N2(3)=  28\n",
      "4 11\n",
      "4 13\n",
      "4 14\n",
      "N2(4)=  28\n",
      "5 16\n",
      "N2(5)=  28\n",
      "N2(6)=  28\n",
      "N2(7)=  28\n",
      "8 27\n",
      "N2(8)=  28\n",
      "9 27\n",
      "N2(9)=  28\n",
      "10 24\n",
      "10 27\n",
      "N2(10)=  28\n",
      "11 4\n",
      "11 22\n",
      "11 24\n",
      "N2(11)=  28\n",
      "12 24\n",
      "N2(12)=  28\n",
      "13 4\n",
      "13 22\n",
      "N2(13)=  28\n",
      "14 3\n",
      "14 4\n",
      "N2(14)=  28\n",
      "15 23\n",
      "N2(15)=  28\n",
      "16 5\n",
      "16 23\n",
      "N2(16)=  28\n",
      "17 0\n",
      "17 3\n",
      "N2(17)=  28\n",
      "18 0\n",
      "18 3\n",
      "N2(18)=  28\n",
      "19 0\n",
      "N2(19)=  28\n",
      "N2(20)=  28\n",
      "N2(21)=  28\n",
      "22 11\n",
      "22 13\n",
      "N2(22)=  28\n",
      "23 15\n",
      "23 16\n",
      "N2(23)=  28\n",
      "24 10\n",
      "24 11\n",
      "24 12\n",
      "N2(24)=  28\n",
      "N2(25)=  28\n",
      "N2(26)=  28\n",
      "27 8\n",
      "27 9\n",
      "27 10\n",
      "N2(27)=  28\n"
     ]
    }
   ],
   "source": [
    "#print( commonNeighborhood( G, 11, 25) )\n",
    "#print( commonNeighborhood( G, 11, 7) )\n",
    "\n",
    "n = len(G.nodes() )\n",
    "for u in range(n):\n",
    "    n2 = set()\n",
    "    for v in range(n):\n",
    "        commNeigh = commonNeighborhood(G,u,v)\n",
    "        n2 = n2.union( set(G.neighbors(v)) )\n",
    "        commNeighSize = len(commNeigh)\n",
    "        if commNeighSize==0:\n",
    "            print(u,v)\n",
    "    print(\"N2(\"+ str(u)+ \")= \", len(n2) )"
   ]
  },
  {
   "cell_type": "code",
   "execution_count": 31,
   "metadata": {},
   "outputs": [
    {
     "name": "stdout",
     "output_type": "stream",
     "text": [
      "1 0 , trianlge score=  6 , comNeigh size=  6 , weight=  12139.0\n",
      "2 1 , trianlge score=  6 , comNeigh size=  6 , weight=  2736.0\n",
      "3 0 , trianlge score=  5 , comNeigh size=  5 , weight=  20344.0\n",
      "3 1 , trianlge score=  5 , comNeigh size=  5 , weight=  1580.0\n",
      "3 2 , trianlge score=  5 , comNeigh size=  5 , weight=  20161.0\n",
      "4 2 , trianlge score=  7 , comNeigh size=  7 , weight=  21468.0\n",
      "4 3 , trianlge score=  3 , comNeigh size=  3 , weight=  261.0\n",
      "5 0 , trianlge score=  4 , comNeigh size=  4 , weight=  12.0\n",
      "5 2 , trianlge score=  6 , comNeigh size=  6 , weight=  1271.0\n",
      "5 3 , trianlge score=  6 , comNeigh size=  6 , weight=  17958.0\n",
      "5 4 , trianlge score=  6 , comNeigh size=  6 , weight=  20720.0\n",
      "6 0 , trianlge score=  4 , comNeigh size=  4 , weight=  1698.0\n",
      "6 1 , trianlge score=  5 , comNeigh size=  5 , weight=  4011.0\n",
      "6 2 , trianlge score=  5 , comNeigh size=  5 , weight=  4029.0\n",
      "6 3 , trianlge score=  5 , comNeigh size=  5 , weight=  20800.0\n",
      "6 5 , trianlge score=  8 , comNeigh size=  8 , weight=  4712.0\n",
      "7 1 , trianlge score=  6 , comNeigh size=  6 , weight=  4237.0\n",
      "7 2 , trianlge score=  5 , comNeigh size=  5 , weight=  5709.0\n",
      "7 6 , trianlge score=  7 , comNeigh size=  7 , weight=  18670.0\n",
      "8 5 , trianlge score=  4 , comNeigh size=  4 , weight=  18.0\n",
      "8 6 , trianlge score=  4 , comNeigh size=  4 , weight=  16.0\n",
      "8 7 , trianlge score=  9 , comNeigh size=  9 , weight=  2497.0\n",
      "9 5 , trianlge score=  4 , comNeigh size=  4 , weight=  1.0\n",
      "9 7 , trianlge score=  8 , comNeigh size=  8 , weight=  9165.0\n",
      "9 8 , trianlge score=  7 , comNeigh size=  7 , weight=  20119.0\n",
      "10 5 , trianlge score=  5 , comNeigh size=  5 , weight=  2.0\n",
      "10 6 , trianlge score=  5 , comNeigh size=  5 , weight=  12451.0\n",
      "10 7 , trianlge score=  9 , comNeigh size=  9 , weight=  11516.0\n",
      "10 8 , trianlge score=  9 , comNeigh size=  9 , weight=  20873.0\n",
      "10 9 , trianlge score=  6 , comNeigh size=  6 , weight=  626.0\n",
      "11 0 , trianlge score=  2 , comNeigh size=  2 , weight=  8.0\n",
      "11 1 , trianlge score=  5 , comNeigh size=  5 , weight=  3.0\n",
      "11 7 , trianlge score=  6 , comNeigh size=  6 , weight=  399.0\n",
      "11 8 , trianlge score=  4 , comNeigh size=  4 , weight=  12.0\n",
      "11 10 , trianlge score=  5 , comNeigh size=  5 , weight=  19165.0\n",
      "12 0 , trianlge score=  5 , comNeigh size=  5 , weight=  13833.0\n",
      "12 1 , trianlge score=  6 , comNeigh size=  6 , weight=  20169.0\n",
      "12 3 , trianlge score=  4 , comNeigh size=  4 , weight=  4.0\n",
      "12 5 , trianlge score=  4 , comNeigh size=  4 , weight=  1.0\n",
      "12 6 , trianlge score=  6 , comNeigh size=  6 , weight=  16711.0\n",
      "12 7 , trianlge score=  5 , comNeigh size=  5 , weight=  2675.0\n",
      "12 10 , trianlge score=  5 , comNeigh size=  5 , weight=  4410.0\n",
      "12 11 , trianlge score=  5 , comNeigh size=  5 , weight=  21386.0\n",
      "13 1 , trianlge score=  6 , comNeigh size=  6 , weight=  13163.0\n",
      "13 7 , trianlge score=  8 , comNeigh size=  8 , weight=  2024.0\n",
      "13 8 , trianlge score=  5 , comNeigh size=  5 , weight=  1.0\n",
      "13 10 , trianlge score=  6 , comNeigh size=  6 , weight=  3.0\n",
      "13 11 , trianlge score=  7 , comNeigh size=  7 , weight=  20353.0\n",
      "13 12 , trianlge score=  4 , comNeigh size=  4 , weight=  3762.0\n",
      "14 7 , trianlge score=  8 , comNeigh size=  8 , weight=  17976.0\n",
      "14 8 , trianlge score=  7 , comNeigh size=  7 , weight=  16.0\n",
      "14 9 , trianlge score=  5 , comNeigh size=  5 , weight=  14083.0\n",
      "14 10 , trianlge score=  6 , comNeigh size=  6 , weight=  13227.0\n",
      "14 11 , trianlge score=  5 , comNeigh size=  5 , weight=  4155.0\n",
      "14 13 , trianlge score=  7 , comNeigh size=  7 , weight=  16645.0\n",
      "15 1 , trianlge score=  5 , comNeigh size=  5 , weight=  6381.0\n",
      "15 13 , trianlge score=  4 , comNeigh size=  4 , weight=  5281.0\n",
      "16 1 , trianlge score=  5 , comNeigh size=  5 , weight=  2.0\n",
      "16 11 , trianlge score=  3 , comNeigh size=  3 , weight=  11.0\n",
      "16 13 , trianlge score=  6 , comNeigh size=  6 , weight=  18518.0\n",
      "16 14 , trianlge score=  5 , comNeigh size=  5 , weight=  4931.0\n",
      "16 15 , trianlge score=  5 , comNeigh size=  5 , weight=  19396.0\n",
      "17 7 , trianlge score=  9 , comNeigh size=  9 , weight=  676.0\n",
      "17 8 , trianlge score=  6 , comNeigh size=  6 , weight=  1.0\n",
      "17 9 , trianlge score=  6 , comNeigh size=  6 , weight=  10.0\n",
      "17 10 , trianlge score=  5 , comNeigh size=  5 , weight=  1.0\n",
      "17 13 , trianlge score=  7 , comNeigh size=  7 , weight=  6.0\n",
      "17 14 , trianlge score=  8 , comNeigh size=  8 , weight=  18642.0\n",
      "17 15 , trianlge score=  4 , comNeigh size=  4 , weight=  2645.0\n",
      "17 16 , trianlge score=  5 , comNeigh size=  5 , weight=  19189.0\n",
      "18 7 , trianlge score=  7 , comNeigh size=  7 , weight=  58.0\n",
      "18 8 , trianlge score=  4 , comNeigh size=  4 , weight=  16.0\n",
      "18 9 , trianlge score=  6 , comNeigh size=  6 , weight=  20224.0\n",
      "18 14 , trianlge score=  5 , comNeigh size=  5 , weight=  2011.0\n",
      "18 16 , trianlge score=  2 , comNeigh size=  2 , weight=  8.0\n",
      "18 17 , trianlge score=  7 , comNeigh size=  7 , weight=  20673.0\n",
      "19 4 , trianlge score=  3 , comNeigh size=  3 , weight=  5.0\n",
      "19 7 , trianlge score=  5 , comNeigh size=  5 , weight=  364.0\n",
      "19 9 , trianlge score=  4 , comNeigh size=  4 , weight=  2245.0\n",
      "19 17 , trianlge score=  4 , comNeigh size=  4 , weight=  1015.0\n",
      "19 18 , trianlge score=  7 , comNeigh size=  7 , weight=  22230.0\n",
      "20 2 , trianlge score=  7 , comNeigh size=  7 , weight=  5689.0\n",
      "20 4 , trianlge score=  5 , comNeigh size=  5 , weight=  20038.0\n",
      "20 5 , trianlge score=  6 , comNeigh size=  6 , weight=  186.0\n",
      "20 6 , trianlge score=  4 , comNeigh size=  4 , weight=  230.0\n",
      "20 7 , trianlge score=  8 , comNeigh size=  8 , weight=  17840.0\n",
      "20 9 , trianlge score=  5 , comNeigh size=  5 , weight=  14439.0\n",
      "20 18 , trianlge score=  5 , comNeigh size=  5 , weight=  1.0\n",
      "20 19 , trianlge score=  6 , comNeigh size=  6 , weight=  20769.0\n",
      "21 2 , trianlge score=  6 , comNeigh size=  6 , weight=  1270.0\n",
      "21 7 , trianlge score=  6 , comNeigh size=  6 , weight=  2456.0\n",
      "21 15 , trianlge score=  4 , comNeigh size=  4 , weight=  8736.0\n",
      "21 17 , trianlge score=  5 , comNeigh size=  5 , weight=  17649.0\n",
      "21 18 , trianlge score=  6 , comNeigh size=  6 , weight=  11.0\n",
      "21 19 , trianlge score=  6 , comNeigh size=  6 , weight=  21320.0\n",
      "21 20 , trianlge score=  6 , comNeigh size=  6 , weight=  4696.0\n",
      "22 2 , trianlge score=  6 , comNeigh size=  6 , weight=  274.0\n",
      "22 4 , trianlge score=  6 , comNeigh size=  6 , weight=  19634.0\n",
      "22 5 , trianlge score=  3 , comNeigh size=  3 , weight=  10.0\n",
      "22 18 , trianlge score=  4 , comNeigh size=  4 , weight=  5.0\n",
      "22 19 , trianlge score=  5 , comNeigh size=  5 , weight=  16811.0\n",
      "22 20 , trianlge score=  6 , comNeigh size=  6 , weight=  2501.0\n",
      "22 21 , trianlge score=  6 , comNeigh size=  6 , weight=  5223.0\n",
      "23 4 , trianlge score=  2 , comNeigh size=  2 , weight=  440.0\n",
      "23 5 , trianlge score=  6 , comNeigh size=  6 , weight=  18956.0\n",
      "23 6 , trianlge score=  5 , comNeigh size=  5 , weight=  17188.0\n",
      "23 7 , trianlge score=  5 , comNeigh size=  5 , weight=  6156.0\n",
      "23 8 , trianlge score=  5 , comNeigh size=  5 , weight=  20390.0\n",
      "23 9 , trianlge score=  5 , comNeigh size=  5 , weight=  2100.0\n",
      "23 10 , trianlge score=  5 , comNeigh size=  5 , weight=  471.0\n",
      "23 20 , trianlge score=  5 , comNeigh size=  5 , weight=  17094.0\n",
      "24 2 , trianlge score=  6 , comNeigh size=  6 , weight=  16726.0\n",
      "24 4 , trianlge score=  5 , comNeigh size=  5 , weight=  1077.0\n",
      "24 15 , trianlge score=  4 , comNeigh size=  4 , weight=  1.0\n",
      "24 18 , trianlge score=  3 , comNeigh size=  3 , weight=  2.0\n",
      "24 19 , trianlge score=  4 , comNeigh size=  4 , weight=  2.0\n",
      "24 21 , trianlge score=  7 , comNeigh size=  7 , weight=  16824.0\n",
      "24 22 , trianlge score=  6 , comNeigh size=  6 , weight=  19017.0\n",
      "25 1 , trianlge score=  7 , comNeigh size=  7 , weight=  18410.0\n",
      "25 2 , trianlge score=  7 , comNeigh size=  7 , weight=  12246.0\n",
      "25 7 , trianlge score=  7 , comNeigh size=  7 , weight=  18879.0\n",
      "25 13 , trianlge score=  6 , comNeigh size=  6 , weight=  7238.0\n",
      "25 14 , trianlge score=  4 , comNeigh size=  4 , weight=  4389.0\n",
      "25 15 , trianlge score=  8 , comNeigh size=  8 , weight=  18239.0\n",
      "25 16 , trianlge score=  6 , comNeigh size=  6 , weight=  1408.0\n",
      "25 17 , trianlge score=  6 , comNeigh size=  6 , weight=  4672.0\n",
      "25 20 , trianlge score=  3 , comNeigh size=  3 , weight=  565.0\n",
      "25 21 , trianlge score=  7 , comNeigh size=  7 , weight=  20478.0\n",
      "25 24 , trianlge score=  5 , comNeigh size=  5 , weight=  5031.0\n",
      "26 0 , trianlge score=  4 , comNeigh size=  4 , weight=  13758.0\n",
      "26 1 , trianlge score=  6 , comNeigh size=  6 , weight=  18741.0\n",
      "26 2 , trianlge score=  7 , comNeigh size=  7 , weight=  14332.0\n",
      "26 3 , trianlge score=  5 , comNeigh size=  5 , weight=  2652.0\n",
      "26 4 , trianlge score=  5 , comNeigh size=  5 , weight=  2.0\n",
      "26 5 , trianlge score=  4 , comNeigh size=  4 , weight=  2.0\n",
      "26 15 , trianlge score=  4 , comNeigh size=  4 , weight=  126.0\n",
      "26 24 , trianlge score=  5 , comNeigh size=  5 , weight=  4363.0\n",
      "26 25 , trianlge score=  5 , comNeigh size=  5 , weight=  5872.0\n",
      "27 0 , trianlge score=  2 , comNeigh size=  2 , weight=  5.0\n",
      "27 1 , trianlge score=  6 , comNeigh size=  6 , weight=  11.0\n",
      "27 2 , trianlge score=  7 , comNeigh size=  7 , weight=  2.0\n",
      "27 4 , trianlge score=  4 , comNeigh size=  4 , weight=  1.0\n",
      "27 15 , trianlge score=  6 , comNeigh size=  6 , weight=  18362.0\n",
      "27 16 , trianlge score=  3 , comNeigh size=  3 , weight=  7.0\n",
      "27 21 , trianlge score=  5 , comNeigh size=  5 , weight=  1737.0\n",
      "27 22 , trianlge score=  4 , comNeigh size=  4 , weight=  7.0\n",
      "27 24 , trianlge score=  7 , comNeigh size=  7 , weight=  18270.0\n",
      "27 25 , trianlge score=  7 , comNeigh size=  7 , weight=  5301.0\n",
      "27 26 , trianlge score=  7 , comNeigh size=  7 , weight=  20496.0\n"
     ]
    }
   ],
   "source": [
    "trianlgeForEdges = sparsification.TriangleEdgeScore(G).run()\n",
    "triangleScores = trianlgeForEdges.scores()\n",
    "\n",
    "def ptc(u,v,w,i):\n",
    "    print(u, v, \", trianlge score= \", triangleScores[i], \", weight= \", w)\n",
    "    \n",
    "G.forEdges( ptc )"
   ]
  },
  {
   "cell_type": "markdown",
   "metadata": {},
   "source": [
    "## Export hierarchical k-means block graph"
   ]
  },
  {
   "cell_type": "code",
   "execution_count": 12,
   "metadata": {},
   "outputs": [],
   "source": [
    "client = gephi.streaming.GephiStreamingClient(url=\"http://localhost:8080/workspace3\")"
   ]
  },
  {
   "cell_type": "code",
   "execution_count": 13,
   "metadata": {},
   "outputs": [
    {
     "name": "stdout",
     "output_type": "stream",
     "text": [
      "True\n",
      "maxWeightedDegree 325.0\n",
      "maxDegree 9\n",
      "totalEdgeWeight 3483.0\n",
      "minWeight, avgWeight, maxWeight\n",
      "2.0 57.09836065573771 113.0\n"
     ]
    }
   ],
   "source": [
    "graphPath = \"/home/harry/geographer-dev/blockHKM28.graph\"\n",
    "G2 = readGraph(graphPath, Format.METIS)\n",
    "print( G2.isWeighted() )\n",
    "print( \"maxWeightedDegree\", G2.maxWeightedDegree() )\n",
    "print( \"maxDegree\", G2.maxDegree() )\n",
    "print( \"totalEdgeWeight\", G2.totalEdgeWeight() )\n",
    "minWeight, avgWeight, maxWeight = maxEdge(G2)\n",
    "print( \"minWeight, avgWeight, maxWeight\")\n",
    "print( minWeight, avgWeight, maxWeight )"
   ]
  },
  {
   "cell_type": "code",
   "execution_count": 14,
   "metadata": {},
   "outputs": [],
   "source": [
    "client.exportGraph(G2)"
   ]
  },
  {
   "cell_type": "code",
   "execution_count": 15,
   "metadata": {},
   "outputs": [],
   "source": [
    "weights = edgeWeights(G2)\n",
    "client.exportEdgeValues(G2, weights, \"edge weights\")"
   ]
  },
  {
   "cell_type": "code",
   "execution_count": 16,
   "metadata": {},
   "outputs": [],
   "source": [
    "labels = nodeLabels(G2)\n",
    "client.exportNodeValues(G2, labels, \"Label\")"
   ]
  },
  {
   "cell_type": "code",
   "execution_count": null,
   "metadata": {},
   "outputs": [],
   "source": []
  }
 ],
 "metadata": {
  "kernelspec": {
   "display_name": "Python 3",
   "language": "python",
   "name": "python3"
  },
  "language_info": {
   "codemirror_mode": {
    "name": "ipython",
    "version": 3
   },
   "file_extension": ".py",
   "mimetype": "text/x-python",
   "name": "python",
   "nbconvert_exporter": "python",
   "pygments_lexer": "ipython3",
   "version": "3.6.8"
  }
 },
 "nbformat": 4,
 "nbformat_minor": 2
}
