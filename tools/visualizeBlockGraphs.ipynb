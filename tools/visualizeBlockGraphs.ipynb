{
 "cells": [
  {
   "cell_type": "code",
   "execution_count": null,
   "metadata": {},
   "outputs": [],
   "source": [
    "from networkit import *\n",
    "import os\n",
    "import numpy as np\n",
    "import sys"
   ]
  },
  {
   "cell_type": "code",
   "execution_count": null,
   "metadata": {},
   "outputs": [],
   "source": [
    "def maxEdge(G):\n",
    "    maxWeight = 0;\n",
    "    minWeight = sys.maxsize\n",
    "    sumW = 0\n",
    "    def mamE(u,v,weight,ID):\n",
    "        #print( weight )\n",
    "        nonlocal maxWeight\n",
    "        nonlocal minWeight\n",
    "        nonlocal sumW\n",
    "        sumW+= weight\n",
    "        \n",
    "        if weight>maxWeight:\n",
    "            maxWeight = weight\n",
    "        if weight<minWeight:\n",
    "            minWeight = weight\n",
    "            \n",
    "    G.forEdges( mamE )\n",
    "    \n",
    "    avgWeight = sumW/G.numberOfEdges()\n",
    "    \n",
    "    return minWeight, avgWeight, maxWeight"
   ]
  },
  {
   "cell_type": "code",
   "execution_count": null,
   "metadata": {},
   "outputs": [],
   "source": [
    "def edgeWeights(G):\n",
    "    weights = list()\n",
    "    def getW(u,v,w,i):\n",
    "        weights.append(w)\n",
    "    G.forEdges( getW )\n",
    "    \n",
    "    return weights"
   ]
  },
  {
   "cell_type": "code",
   "execution_count": null,
   "metadata": {},
   "outputs": [],
   "source": [
    "def nodeLabels(G):\n",
    "    labels = list()\n",
    "    def extrL(u):\n",
    "        nonlocal labels\n",
    "        labels.append(u)\n",
    "        \n",
    "    G.forNodes( extrL )\n",
    "    return labels"
   ]
  },
  {
   "cell_type": "markdown",
   "metadata": {},
   "source": [
    "## Export regular k-means block graph"
   ]
  },
  {
   "cell_type": "code",
   "execution_count": null,
   "metadata": {},
   "outputs": [],
   "source": [
    "client = gephi.streaming.GephiStreamingClient(url=\"http://localhost:8080/workspace1\")"
   ]
  },
  {
   "cell_type": "code",
   "execution_count": null,
   "metadata": {},
   "outputs": [],
   "source": [
    "#graphPath = \"/home/harry/geographer-dev/meshes/PEgraphs/rgg_n_2_24_s0.graph_k512.PEgraph\"\n",
    "graphPath = \"/home/harry/geographer-dev/blockKM28.graph\"\n",
    "G = readGraph(graphPath, Format.METIS)\n",
    "print( G.isWeighted() )\n",
    "print( \"maxWeightedDegree\", G.maxWeightedDegree() )\n",
    "print( \"maxDegree\", G.maxDegree() )\n",
    "print( \"totalEdgeWeight\", G.totalEdgeWeight() )\n",
    "minWeight, avgWeight, maxWeight = maxEdge(G)\n",
    "print( \"minWeight, avgWeight, maxWeight\")\n",
    "print( minWeight, avgWeight, maxWeight )"
   ]
  },
  {
   "cell_type": "code",
   "execution_count": null,
   "metadata": {},
   "outputs": [],
   "source": [
    "client.exportGraph(G)"
   ]
  },
  {
   "cell_type": "code",
   "execution_count": null,
   "metadata": {},
   "outputs": [],
   "source": [
    "weights = edgeWeights(G)\n",
    "client.exportEdgeValues(G, weights, \"edge weights\")"
   ]
  },
  {
   "cell_type": "code",
   "execution_count": null,
   "metadata": {},
   "outputs": [],
   "source": [
    "labels = nodeLabels(G)\n",
    "client.exportNodeValues(G, labels, \"Label\")"
   ]
  },
  {
   "cell_type": "code",
   "execution_count": null,
   "metadata": {},
   "outputs": [],
   "source": [
    "#coreDecomp = community.CoreDecomposition(G).run()\n",
    "#client.exportNodeValues(G, coreDecomp.scores(), \"nk_coreDecomp\")\n",
    "\n",
    "#plm = community.PLM(G).run()\n",
    "#client.exportNodeValues(G, plm.getPartition(), \"PLM\")"
   ]
  },
  {
   "cell_type": "markdown",
   "metadata": {},
   "source": [
    "## Export hierarchical k-means block graph"
   ]
  },
  {
   "cell_type": "code",
   "execution_count": null,
   "metadata": {},
   "outputs": [],
   "source": [
    "client = gephi.streaming.GephiStreamingClient(url=\"http://localhost:8080/workspace3\")"
   ]
  },
  {
   "cell_type": "code",
   "execution_count": null,
   "metadata": {},
   "outputs": [],
   "source": [
    "graphPath = \"/home/harry/geographer-dev/blockHKM28.graph\"\n",
    "G2 = readGraph(graphPath, Format.METIS)\n",
    "print( G2.isWeighted() )\n",
    "print( \"maxWeightedDegree\", G2.maxWeightedDegree() )\n",
    "print( \"maxDegree\", G2.maxDegree() )\n",
    "print( \"totalEdgeWeight\", G2.totalEdgeWeight() )\n",
    "minWeight, avgWeight, maxWeight = maxEdge(G2)\n",
    "print( \"minWeight, avgWeight, maxWeight\")\n",
    "print( minWeight, avgWeight, maxWeight )"
   ]
  },
  {
   "cell_type": "code",
   "execution_count": null,
   "metadata": {},
   "outputs": [],
   "source": [
    "client.exportGraph(G2)"
   ]
  },
  {
   "cell_type": "code",
   "execution_count": null,
   "metadata": {},
   "outputs": [],
   "source": [
    "weights = edgeWeights(G2)\n",
    "client.exportEdgeValues(G2, weights, \"edge weights\")"
   ]
  },
  {
   "cell_type": "code",
   "execution_count": null,
   "metadata": {},
   "outputs": [],
   "source": [
    "labels = nodeLabels(G2)\n",
    "client.exportNodeValues(G2, labels, \"Label\")"
   ]
  },
  {
   "cell_type": "code",
   "execution_count": null,
   "metadata": {},
   "outputs": [],
   "source": []
  }
 ],
 "metadata": {
  "kernelspec": {
   "display_name": "Python 3",
   "language": "python",
   "name": "python3"
  },
  "language_info": {
   "codemirror_mode": {
    "name": "ipython",
    "version": 3
   },
   "file_extension": ".py",
   "mimetype": "text/x-python",
   "name": "python",
   "nbconvert_exporter": "python",
   "pygments_lexer": "ipython3",
   "version": "3.6.9"
  }
 },
 "nbformat": 4,
 "nbformat_minor": 2
}
